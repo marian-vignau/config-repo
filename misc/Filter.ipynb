{
 "cells": [
  {
   "cell_type": "markdown",
   "id": "30753162",
   "metadata": {},
   "source": [
    "# Filter\n",
    "I need to create a whitelist of config files\n",
    "and a black list"
   ]
  },
  {
   "cell_type": "code",
   "execution_count": 148,
   "id": "abe30d11",
   "metadata": {},
   "outputs": [
    {
     "ename": "SyntaxError",
     "evalue": "invalid syntax (<ipython-input-148-249f90e7680d>, line 1)",
     "output_type": "error",
     "traceback": [
      "\u001b[0;36m  File \u001b[0;32m\"<ipython-input-148-249f90e7680d>\"\u001b[0;36m, line \u001b[0;32m1\u001b[0m\n\u001b[0;31m    from datetime import datetime, timezonedef sizeof_fmt(num, suffix=\"B\"):\u001b[0m\n\u001b[0m                                               ^\u001b[0m\n\u001b[0;31mSyntaxError\u001b[0m\u001b[0;31m:\u001b[0m invalid syntax\n"
     ]
    }
   ],
   "source": [
    "from datetime import datetime, timezone\n",
    "\n",
    "def sizeof_fmt(num, suffix=\"B\"):\n",
    "    for unit in [\"\", \"Ki\", \"Mi\", \"Gi\", \"Ti\", \"Pi\", \"Ei\", \"Zi\"]:\n",
    "        if abs(num) < 1024.0:\n",
    "            return f\"{num:3.1f}{unit}{suffix}\"\n",
    "        num /= 1024.0\n",
    "    return f\"{num:.1f}Yi{suffix}\""
   ]
  },
  {
   "cell_type": "code",
   "execution_count": 126,
   "id": "5ca24849",
   "metadata": {},
   "outputs": [],
   "source": [
    "import pathlib\n",
    "textchars = bytearray({7,8,9,10,12,13,27} | set(range(0x20, 0x100)) - {0x7f})\n",
    "is_binary_string = lambda bytes: bool(bytes.translate(None, textchars))    \n",
    "\n",
    "forbid = lambda filename, *words: any([w in str(filename) for w in words])\n"
   ]
  },
  {
   "cell_type": "code",
   "execution_count": 127,
   "id": "9c401085",
   "metadata": {},
   "outputs": [],
   "source": [
    "path = pathlib.Path(\"/home/mavignau\")\n",
    "PROGRESS = 100\n",
    "LINE_LENGTH = PROGRESS * 90\n",
    "WANTED = [\"shp.yaml\"]"
   ]
  },
  {
   "cell_type": "code",
   "execution_count": null,
   "id": "f7652e39",
   "metadata": {},
   "outputs": [],
   "source": []
  },
  {
   "cell_type": "code",
   "execution_count": 140,
   "id": "a68b90a4",
   "metadata": {},
   "outputs": [],
   "source": [
    "class Filter:\n",
    "    def __init__(self):\n",
    "        self.stats = {}\n",
    "        self.lines = 0\n",
    "        self.sizes = {}\n",
    "\n",
    "        \n",
    "    def __del__(self):\n",
    "        self.control.close()\n",
    "\n",
    "    def counter(self, flag, filename, check_size=True):\n",
    "        size = 0\n",
    "        if check_size:\n",
    "            size = filename.stat().st_size\n",
    "        self.sizes[flag] = self.sizes.get(flag, 0) + size\n",
    "        self.stats[flag] = self.stats.get(flag, 0) + 1\n",
    "        if \"+\" in flag or any([w in str(filename) for w in WANTED]):\n",
    "            self.accepted += 1\n",
    "            self.control.write(f\"{flag},{filename},{sizeof_fmt(size)}\\n\")\n",
    "        if flag.startswith(\"#\"):\n",
    "            return\n",
    "        self.lines += 1\n",
    "        \n",
    "        \n",
    "    def progress(self, end=False):\n",
    "        if end:\n",
    "            print(\">\", self.processed, self.accepted)\n",
    "            self.control.close()\n",
    "            return False\n",
    "        self.processed +=1\n",
    "\n",
    "        if not (self.processed % LINE_LENGTH): \n",
    "            print(self.processed, self.accepted)\n",
    "        elif not (self.processed % PROGRESS) :\n",
    "            print(end=\".\")\n",
    "        return True\n",
    "        \n",
    "    def __call__(self, path):\n",
    "        self.control = open(\"control.csv\", \"w\")\n",
    "        self.processed = self.accepted = 0\n",
    "        for subpath in path.iterdir():\n",
    "            if subpath.is_file():\n",
    "                if not self.progress():\n",
    "                    break\n",
    "                res = self._eval_file(subpath)\n",
    "                self.counter(*res)\n",
    "            if subpath.is_dir() and subpath.parts[3] in [\".config\", \".tmux\", \".tmuxp\"]:\n",
    "                for filename in subpath.rglob(\"*\"):\n",
    "                    if not self.progress():\n",
    "                        break\n",
    "                    res = self._eval_file(filename)\n",
    "                    self.counter(*res)\n",
    "        self.progress(True)\n",
    "            \n",
    "    def _eval_file(self, filename):\n",
    "        if filename.is_dir():\n",
    "            return \"#1\", filename, False\n",
    "        elif not filename.exists():\n",
    "            return \"2\", filename, False\n",
    "        elif len(filename.parts) > 6:\n",
    "            return \"3\", filename\n",
    "        elif max([len(p) for p in filename.parts]) > 26:\n",
    "            return \"4\", filename\n",
    "        elif str(filename)[-3:] in [\"log\", \"bak\", \"old\", \".md\"]:\n",
    "            return \"#5\", filename\n",
    "        elif forbid(filename, \"history\", \"error\", \".gitrc\", \".ipynb\", \"patch\", \"dump\", \".log\"):\n",
    "            return \"#6\", filename\n",
    "        elif filename.stat().st_size < 1:\n",
    "            return \"#7\", filename\n",
    "        elif filename.stat().st_size > 8192:\n",
    "            return \"#8\", filename\n",
    "        \n",
    "        elif is_binary_string(filename.open(\"rb\").read(1024)):\n",
    "            return \"#0\", filename\n",
    "        else:\n",
    "            return \"#+\", filename\n",
    "        self.progress(True)\n",
    "\n",
    "    def __iter__(self):\n",
    "        for tag, value in self.sizes.items():\n",
    "            yield tag, f\"{self.stats[tag]}, {sizeof_fmt(value)}\"\n",
    "    \n",
    "\n",
    "    def subdirs(self, path):\n",
    "        pn = len(path.parts)\n",
    "        sub_d = [p.parts[pn] for p in path.iterdir() if p.is_dir() and p.parts[3].startswith(\".\")]\n",
    "        return sorted(sub_d)\n",
    "    \n",
    "myfilter=Filter()\n",
    "#myfilter.subdirs(path)"
   ]
  },
  {
   "cell_type": "code",
   "execution_count": 142,
   "id": "c73a8fef",
   "metadata": {},
   "outputs": [
    {
     "name": "stdout",
     "output_type": "stream",
     "text": [
      ".........................................................................................9000 109\n",
      ".........................................................................................18000 151\n",
      ".........................................................................................27000 157\n",
      "..................> 28879 165\n"
     ]
    }
   ],
   "source": [
    "myfilter(path)"
   ]
  },
  {
   "cell_type": "code",
   "execution_count": 143,
   "id": "6bb59a68",
   "metadata": {},
   "outputs": [
    {
     "data": {
      "text/plain": [
       "{'#+': '330, 351.1KiB',\n",
       " '#8': '92, 9.3MiB',\n",
       " '#6': '34, 791.7KiB',\n",
       " '#0': '4, 1.1KiB',\n",
       " '4': '360, 281.6MiB',\n",
       " '#5': '10, 1.5MiB',\n",
       " '#7': '54, 0.0B',\n",
       " '#1': '8508, 0.0B',\n",
       " '3': '48321, 3.4GiB',\n",
       " '2': '46, 0.0B'}"
      ]
     },
     "execution_count": 143,
     "metadata": {},
     "output_type": "execute_result"
    }
   ],
   "source": [
    "dict(myfilter)"
   ]
  },
  {
   "cell_type": "code",
   "execution_count": 117,
   "id": "9a1168e7",
   "metadata": {},
   "outputs": [
    {
     "data": {
      "text/plain": [
       "['AWSVPNClient',\n",
       " 'GIMP',\n",
       " 'Insomnia',\n",
       " 'JetBrains',\n",
       " 'KDE',\n",
       " 'Mousepad',\n",
       " 'Postman',\n",
       " 'Slack',\n",
       " 'Thunar',\n",
       " 'VirtualBox',\n",
       " 'ardour6',\n",
       " 'autostart',\n",
       " 'autostart-scripts',\n",
       " 'catfish',\n",
       " 'cef_user_data',\n",
       " 'dconf',\n",
       " 'drata-agent',\n",
       " 'enchant',\n",
       " 'evolution',\n",
       " 'fades',\n",
       " 'freeplane',\n",
       " 'goa-1.0',\n",
       " 'google-chrome',\n",
       " 'gtk-2.0',\n",
       " 'gtk-3.0',\n",
       " 'gtk-4.0',\n",
       " 'guvcview2',\n",
       " 'htop',\n",
       " 'ibus',\n",
       " 'inkscape',\n",
       " 'kazam',\n",
       " 'kde.org',\n",
       " 'kdeconnect',\n",
       " 'keepassxc',\n",
       " 'lazydocker',\n",
       " 'lazygit',\n",
       " 'libaccounts-glib',\n",
       " 'libreoffice',\n",
       " 'menus',\n",
       " 'nvim',\n",
       " 'obs-studio',\n",
       " 'pudb',\n",
       " 'pulse',\n",
       " 'qastools',\n",
       " 'ristretto',\n",
       " 'session',\n",
       " 'sourcetrail',\n",
       " 'sway',\n",
       " 'update-notifier',\n",
       " 'vifm',\n",
       " 'vlc',\n",
       " 'xfce4',\n",
       " 'xsettingsd',\n",
       " 'xubuntu',\n",
       " 'zim']"
      ]
     },
     "execution_count": 117,
     "metadata": {},
     "output_type": "execute_result"
    }
   ],
   "source": [
    "Filter().subdirs(pathlib.Path(\"/home/mavignau/.config/\"))"
   ]
  },
  {
   "cell_type": "code",
   "execution_count": 144,
   "id": "9e2b715a",
   "metadata": {},
   "outputs": [],
   "source": [
    "pf = pathlib.Path(\"/home/mavignau/.tmuxp/shp2.yaml\")"
   ]
  },
  {
   "cell_type": "code",
   "execution_count": 145,
   "id": "2d84b42b",
   "metadata": {},
   "outputs": [
    {
     "data": {
      "text/plain": [
       "os.stat_result(st_mode=33204, st_ino=27791308, st_dev=64771, st_nlink=1, st_uid=1000, st_gid=1000, st_size=842, st_atime=1641720288, st_mtime=1632949709, st_ctime=1641306351)"
      ]
     },
     "execution_count": 145,
     "metadata": {},
     "output_type": "execute_result"
    }
   ],
   "source": [
    "pf.stat()"
   ]
  },
  {
   "cell_type": "code",
   "execution_count": 146,
   "id": "d9c4d169",
   "metadata": {},
   "outputs": [],
   "source": [
    "from datetime import datetime, timezone"
   ]
  },
  {
   "cell_type": "code",
   "execution_count": 147,
   "id": "c26b24f6",
   "metadata": {},
   "outputs": [
    {
     "name": "stdout",
     "output_type": "stream",
     "text": [
      "modified 2021-09-29 21:08:29.604294+00:00\n"
     ]
    }
   ],
   "source": [
    "stat_result = pf.stat()\n",
    "modified = datetime.fromtimestamp(stat_result.st_mtime, tz=timezone.utc)\n",
    "print('modified', modified)"
   ]
  },
  {
   "cell_type": "code",
   "execution_count": null,
   "id": "1dbea861",
   "metadata": {},
   "outputs": [],
   "source": []
  }
 ],
 "metadata": {
  "kernelspec": {
   "display_name": "Python 3",
   "language": "python",
   "name": "python3"
  },
  "language_info": {
   "codemirror_mode": {
    "name": "ipython",
    "version": 3
   },
   "file_extension": ".py",
   "mimetype": "text/x-python",
   "name": "python",
   "nbconvert_exporter": "python",
   "pygments_lexer": "ipython3",
   "version": "3.9.5"
  }
 },
 "nbformat": 4,
 "nbformat_minor": 5
}
