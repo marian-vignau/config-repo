{
 "cells": [
  {
   "cell_type": "code",
   "execution_count": 106,
   "id": "9f05dcb0",
   "metadata": {},
   "outputs": [],
   "source": [
    "import os, shutil\n",
    "from pathlib import Path\n",
    "\n",
    "\n",
    "def link(orig, dest, filepath):\n",
    "    if len(filepath.parts) > 1:\n",
    "        to_path = Path(*dest.parts[:-1])\n",
    "        to_path.mkdir(parents=True, exist_ok=True)\n",
    "    if orig.is_dir():\n",
    "        shutil.copytree(orig, dest, copy_function=os.link)\n",
    "    else:\n",
    "        os.link(orig, dest)\n",
    "    if dest.exists():\n",
    "        return \"LINKED\"\n",
    "    return \"FILE SYSTEM ERROR\"\n",
    "\n",
    "\n",
    "class Linker:\n",
    "    def __init__(self):\n",
    "        self.home = Path.home()\n",
    "        self.repo = Path.home() / \".gitrc\" / \"config\"\n",
    "        \n",
    "    def add(self, filepath):\n",
    "        home_ln = self.home.joinpath(filepath)\n",
    "        repo_ln = self.repo.joinpath(filepath)\n",
    "        \n",
    "        if home_ln.exists() and not repo_ln.exists():\n",
    "            ret = (link(home_ln, repo_ln, filepath), \"->\")\n",
    "        elif repo_ln.exists() and not home_ln.exists():\n",
    "            ret = (link(repo_ln, home_ln, filepath), \"<-\")\n",
    "        elif repo_ln.exists() and home_ln.exists():\n",
    "            if os.path.samefile(home_ln, repo_ln):\n",
    "                ret = (\"HARDLINKED\", \"==\")\n",
    "            elif repo_ln.is_dir() and home_ln.is_dir():\n",
    "                for fname in repo_ln.rglob(\"*\"):\n",
    "                    print(self.add(fname.relative_to(self.repo)))\n",
    "                for fname in home_ln.rglob(\"*\"):\n",
    "                    print(self.add(fname.relative_to(self.home)))\n",
    "                ret = (\"DIR ADD\", \"##\")\n",
    "            else:\n",
    "                ret = (\"DIFFERENT FILES\", \"!=\")\n",
    "        else:\n",
    "            ret = (\"NOT FOUND\", \"; \")\n",
    "        return f\"{ret[0]}:{home_ln}{ret[1]}{repo_ln}\"\n",
    "        \n",
    "linker = Linker()       "
   ]
  },
  {
   "cell_type": "code",
   "execution_count": 107,
   "id": "fec3990a",
   "metadata": {},
   "outputs": [],
   "source": [
    "filepath = Path(\".config/vifm/colors/\")\n"
   ]
  },
  {
   "cell_type": "code",
   "execution_count": 108,
   "id": "4a0ae59a",
   "metadata": {},
   "outputs": [
    {
     "name": "stdout",
     "output_type": "stream",
     "text": [
      "HARDLINKED:/home/mavignau/.config/vifm/colors/semidarkdesert.vifm==/home/mavignau/.gitrc/config/.config/vifm/colors/semidarkdesert.vifm\n",
      "HARDLINKED:/home/mavignau/.config/vifm/colors/molokai.vifm==/home/mavignau/.gitrc/config/.config/vifm/colors/molokai.vifm\n",
      "HARDLINKED:/home/mavignau/.config/vifm/colors/Default.vifm==/home/mavignau/.gitrc/config/.config/vifm/colors/Default.vifm\n",
      "HARDLINKED:/home/mavignau/.config/vifm/colors/iceberg.vifm==/home/mavignau/.gitrc/config/.config/vifm/colors/iceberg.vifm\n",
      "LINKED:/home/mavignau/.config/vifm/colors/molo.txt->/home/mavignau/.gitrc/config/.config/vifm/colors/molo.txt\n",
      "HARDLINKED:/home/mavignau/.config/vifm/colors/semidarkdesert.vifm==/home/mavignau/.gitrc/config/.config/vifm/colors/semidarkdesert.vifm\n",
      "HARDLINKED:/home/mavignau/.config/vifm/colors/molokai.vifm==/home/mavignau/.gitrc/config/.config/vifm/colors/molokai.vifm\n",
      "HARDLINKED:/home/mavignau/.config/vifm/colors/Default.vifm==/home/mavignau/.gitrc/config/.config/vifm/colors/Default.vifm\n",
      "HARDLINKED:/home/mavignau/.config/vifm/colors/iceberg.vifm==/home/mavignau/.gitrc/config/.config/vifm/colors/iceberg.vifm\n"
     ]
    },
    {
     "data": {
      "text/plain": [
       "'DIR ADD:/home/mavignau/.config/vifm/colors##/home/mavignau/.gitrc/config/.config/vifm/colors'"
      ]
     },
     "execution_count": 108,
     "metadata": {},
     "output_type": "execute_result"
    }
   ],
   "source": [
    "linker.add(filepath)"
   ]
  },
  {
   "cell_type": "code",
   "execution_count": 93,
   "id": "513d2b88",
   "metadata": {},
   "outputs": [
    {
     "data": {
      "text/plain": [
       "[PosixPath('/home/mavignau/.config/vifm/colors/semidarkdesert.vifm'),\n",
       " PosixPath('/home/mavignau/.config/vifm/colors/molokai.vifm'),\n",
       " PosixPath('/home/mavignau/.config/vifm/colors/Default.vifm'),\n",
       " PosixPath('/home/mavignau/.config/vifm/colors/iceberg.vifm')]"
      ]
     },
     "execution_count": 93,
     "metadata": {},
     "output_type": "execute_result"
    }
   ],
   "source": [
    "dir(trabv)"
   ]
  },
  {
   "cell_type": "code",
   "execution_count": 34,
   "id": "b8344dbc",
   "metadata": {},
   "outputs": [],
   "source": [
    "to_path.mkdir(parents=True, exist_ok=True)"
   ]
  },
  {
   "cell_type": "code",
   "execution_count": 101,
   "id": "ead37081",
   "metadata": {},
   "outputs": [
    {
     "data": {
      "text/plain": [
       "['__bytes__',\n",
       " '__class__',\n",
       " '__class_getitem__',\n",
       " '__delattr__',\n",
       " '__dir__',\n",
       " '__doc__',\n",
       " '__enter__',\n",
       " '__eq__',\n",
       " '__exit__',\n",
       " '__format__',\n",
       " '__fspath__',\n",
       " '__ge__',\n",
       " '__getattribute__',\n",
       " '__gt__',\n",
       " '__hash__',\n",
       " '__init__',\n",
       " '__init_subclass__',\n",
       " '__le__',\n",
       " '__lt__',\n",
       " '__module__',\n",
       " '__ne__',\n",
       " '__new__',\n",
       " '__reduce__',\n",
       " '__reduce_ex__',\n",
       " '__repr__',\n",
       " '__rtruediv__',\n",
       " '__setattr__',\n",
       " '__sizeof__',\n",
       " '__slots__',\n",
       " '__str__',\n",
       " '__subclasshook__',\n",
       " '__truediv__',\n",
       " '_accessor',\n",
       " '_cached_cparts',\n",
       " '_cparts',\n",
       " '_drv',\n",
       " '_flavour',\n",
       " '_format_parsed_parts',\n",
       " '_from_parsed_parts',\n",
       " '_from_parts',\n",
       " '_hash',\n",
       " '_init',\n",
       " '_make_child',\n",
       " '_make_child_relpath',\n",
       " '_opener',\n",
       " '_parse_args',\n",
       " '_parts',\n",
       " '_pparts',\n",
       " '_raw_open',\n",
       " '_root',\n",
       " '_str',\n",
       " 'absolute',\n",
       " 'anchor',\n",
       " 'as_posix',\n",
       " 'as_uri',\n",
       " 'chmod',\n",
       " 'cwd',\n",
       " 'drive',\n",
       " 'exists',\n",
       " 'expanduser',\n",
       " 'glob',\n",
       " 'group',\n",
       " 'home',\n",
       " 'is_absolute',\n",
       " 'is_block_device',\n",
       " 'is_char_device',\n",
       " 'is_dir',\n",
       " 'is_fifo',\n",
       " 'is_file',\n",
       " 'is_mount',\n",
       " 'is_relative_to',\n",
       " 'is_reserved',\n",
       " 'is_socket',\n",
       " 'is_symlink',\n",
       " 'iterdir',\n",
       " 'joinpath',\n",
       " 'lchmod',\n",
       " 'link_to',\n",
       " 'lstat',\n",
       " 'match',\n",
       " 'mkdir',\n",
       " 'name',\n",
       " 'open',\n",
       " 'owner',\n",
       " 'parent',\n",
       " 'parents',\n",
       " 'parts',\n",
       " 'read_bytes',\n",
       " 'read_text',\n",
       " 'readlink',\n",
       " 'relative_to',\n",
       " 'rename',\n",
       " 'replace',\n",
       " 'resolve',\n",
       " 'rglob',\n",
       " 'rmdir',\n",
       " 'root',\n",
       " 'samefile',\n",
       " 'stat',\n",
       " 'stem',\n",
       " 'suffix',\n",
       " 'suffixes',\n",
       " 'symlink_to',\n",
       " 'touch',\n",
       " 'unlink',\n",
       " 'with_name',\n",
       " 'with_stem',\n",
       " 'with_suffix',\n",
       " 'write_bytes',\n",
       " 'write_text']"
      ]
     },
     "execution_count": 101,
     "metadata": {},
     "output_type": "execute_result"
    }
   ],
   "source": [
    "dir(trav)"
   ]
  },
  {
   "cell_type": "code",
   "execution_count": 102,
   "id": "86b5869f",
   "metadata": {},
   "outputs": [
    {
     "data": {
      "text/plain": [
       "PosixPath('.config/vifm/colors')"
      ]
     },
     "execution_count": 102,
     "metadata": {},
     "output_type": "execute_result"
    }
   ],
   "source": [
    "trav.relative_to(Path.home())"
   ]
  },
  {
   "cell_type": "code",
   "execution_count": 37,
   "id": "41c8a26f",
   "metadata": {},
   "outputs": [],
   "source": [
    "os.link(from_file, to_file)"
   ]
  },
  {
   "cell_type": "code",
   "execution_count": 38,
   "id": "5d22f372",
   "metadata": {},
   "outputs": [
    {
     "data": {
      "text/plain": [
       "True"
      ]
     },
     "execution_count": 38,
     "metadata": {},
     "output_type": "execute_result"
    }
   ],
   "source": [
    "to_file.exists()"
   ]
  },
  {
   "cell_type": "code",
   "execution_count": 39,
   "id": "37773f83",
   "metadata": {},
   "outputs": [
    {
     "data": {
      "text/plain": [
       "PosixPath('/home/mavignau/.gitrc/config/.config/vifm/vifmrc')"
      ]
     },
     "execution_count": 39,
     "metadata": {},
     "output_type": "execute_result"
    }
   ],
   "source": [
    "to_file"
   ]
  },
  {
   "cell_type": "code",
   "execution_count": null,
   "id": "bb82fcb7",
   "metadata": {},
   "outputs": [],
   "source": []
  }
 ],
 "metadata": {
  "kernelspec": {
   "display_name": "Python 3",
   "language": "python",
   "name": "python3"
  },
  "language_info": {
   "codemirror_mode": {
    "name": "ipython",
    "version": 3
   },
   "file_extension": ".py",
   "mimetype": "text/x-python",
   "name": "python",
   "nbconvert_exporter": "python",
   "pygments_lexer": "ipython3",
   "version": "3.9.5"
  }
 },
 "nbformat": 4,
 "nbformat_minor": 5
}
